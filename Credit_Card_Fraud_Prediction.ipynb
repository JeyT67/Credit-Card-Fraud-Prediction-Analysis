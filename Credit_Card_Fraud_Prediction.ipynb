{
 "cells": [
  {
   "cell_type": "code",
   "execution_count": 24,
   "id": "ce87fe9e",
   "metadata": {},
   "outputs": [],
   "source": [
    "import pandas as pd\n",
    "import numpy as np\n",
    "import seaborn as sea\n",
    "import matplotlib.pyplot as plt\n",
    "from sklearn.linear_model import LogisticRegression\n",
    "from sklearn.model_selection import train_test_split\n",
    "from sklearn.preprocessing import StandardScaler\n",
    "import warnings\n",
    "warnings.filterwarnings(\"ignore\")"
   ]
  },
  {
   "cell_type": "code",
   "execution_count": 2,
   "id": "3db93c17",
   "metadata": {},
   "outputs": [],
   "source": [
    "df = pd.read_csv(r\"C:\\Users\\Jey\\Documents\\Analyst Dataset\\Credit_Transactions.csv\")"
   ]
  },
  {
   "cell_type": "code",
   "execution_count": 3,
   "id": "ea562626",
   "metadata": {},
   "outputs": [
    {
     "data": {
      "text/html": [
       "<div>\n",
       "<style scoped>\n",
       "    .dataframe tbody tr th:only-of-type {\n",
       "        vertical-align: middle;\n",
       "    }\n",
       "\n",
       "    .dataframe tbody tr th {\n",
       "        vertical-align: top;\n",
       "    }\n",
       "\n",
       "    .dataframe thead th {\n",
       "        text-align: right;\n",
       "    }\n",
       "</style>\n",
       "<table border=\"1\" class=\"dataframe\">\n",
       "  <thead>\n",
       "    <tr style=\"text-align: right;\">\n",
       "      <th></th>\n",
       "      <th>step</th>\n",
       "      <th>type</th>\n",
       "      <th>amount</th>\n",
       "      <th>nameOrig</th>\n",
       "      <th>oldbalanceOrg</th>\n",
       "      <th>newbalanceOrig</th>\n",
       "      <th>nameDest</th>\n",
       "      <th>oldbalanceDest</th>\n",
       "      <th>newbalanceDest</th>\n",
       "      <th>isFraud</th>\n",
       "    </tr>\n",
       "  </thead>\n",
       "  <tbody>\n",
       "    <tr>\n",
       "      <th>0</th>\n",
       "      <td>8</td>\n",
       "      <td>CASH_OUT</td>\n",
       "      <td>158007.12</td>\n",
       "      <td>C424875646</td>\n",
       "      <td>0.00</td>\n",
       "      <td>0.00</td>\n",
       "      <td>C1298177219</td>\n",
       "      <td>474016.32</td>\n",
       "      <td>1618631.97</td>\n",
       "      <td>0</td>\n",
       "    </tr>\n",
       "    <tr>\n",
       "      <th>1</th>\n",
       "      <td>236</td>\n",
       "      <td>CASH_OUT</td>\n",
       "      <td>457948.30</td>\n",
       "      <td>C1342616552</td>\n",
       "      <td>0.00</td>\n",
       "      <td>0.00</td>\n",
       "      <td>C1323169990</td>\n",
       "      <td>2720411.37</td>\n",
       "      <td>3178359.67</td>\n",
       "      <td>0</td>\n",
       "    </tr>\n",
       "    <tr>\n",
       "      <th>2</th>\n",
       "      <td>37</td>\n",
       "      <td>CASH_IN</td>\n",
       "      <td>153602.99</td>\n",
       "      <td>C900876541</td>\n",
       "      <td>11160428.67</td>\n",
       "      <td>11314031.67</td>\n",
       "      <td>C608741097</td>\n",
       "      <td>3274930.56</td>\n",
       "      <td>3121327.56</td>\n",
       "      <td>0</td>\n",
       "    </tr>\n",
       "    <tr>\n",
       "      <th>3</th>\n",
       "      <td>331</td>\n",
       "      <td>CASH_OUT</td>\n",
       "      <td>49555.14</td>\n",
       "      <td>C177696810</td>\n",
       "      <td>10865.00</td>\n",
       "      <td>0.00</td>\n",
       "      <td>C462716348</td>\n",
       "      <td>0.00</td>\n",
       "      <td>49555.14</td>\n",
       "      <td>0</td>\n",
       "    </tr>\n",
       "    <tr>\n",
       "      <th>4</th>\n",
       "      <td>250</td>\n",
       "      <td>CASH_OUT</td>\n",
       "      <td>29648.02</td>\n",
       "      <td>C788941490</td>\n",
       "      <td>0.00</td>\n",
       "      <td>0.00</td>\n",
       "      <td>C1971700992</td>\n",
       "      <td>56933.09</td>\n",
       "      <td>86581.10</td>\n",
       "      <td>0</td>\n",
       "    </tr>\n",
       "  </tbody>\n",
       "</table>\n",
       "</div>"
      ],
      "text/plain": [
       "   step      type     amount     nameOrig  oldbalanceOrg  newbalanceOrig  \\\n",
       "0     8  CASH_OUT  158007.12   C424875646           0.00            0.00   \n",
       "1   236  CASH_OUT  457948.30  C1342616552           0.00            0.00   \n",
       "2    37   CASH_IN  153602.99   C900876541    11160428.67     11314031.67   \n",
       "3   331  CASH_OUT   49555.14   C177696810       10865.00            0.00   \n",
       "4   250  CASH_OUT   29648.02   C788941490           0.00            0.00   \n",
       "\n",
       "      nameDest  oldbalanceDest  newbalanceDest  isFraud  \n",
       "0  C1298177219       474016.32      1618631.97        0  \n",
       "1  C1323169990      2720411.37      3178359.67        0  \n",
       "2   C608741097      3274930.56      3121327.56        0  \n",
       "3   C462716348            0.00        49555.14        0  \n",
       "4  C1971700992        56933.09        86581.10        0  "
      ]
     },
     "execution_count": 3,
     "metadata": {},
     "output_type": "execute_result"
    }
   ],
   "source": [
    "df.head()"
   ]
  },
  {
   "cell_type": "code",
   "execution_count": 4,
   "id": "d527bed0",
   "metadata": {},
   "outputs": [
    {
     "data": {
      "text/html": [
       "<div>\n",
       "<style scoped>\n",
       "    .dataframe tbody tr th:only-of-type {\n",
       "        vertical-align: middle;\n",
       "    }\n",
       "\n",
       "    .dataframe tbody tr th {\n",
       "        vertical-align: top;\n",
       "    }\n",
       "\n",
       "    .dataframe thead th {\n",
       "        text-align: right;\n",
       "    }\n",
       "</style>\n",
       "<table border=\"1\" class=\"dataframe\">\n",
       "  <thead>\n",
       "    <tr style=\"text-align: right;\">\n",
       "      <th></th>\n",
       "      <th>step</th>\n",
       "      <th>amount</th>\n",
       "      <th>oldbalanceOrg</th>\n",
       "      <th>newbalanceOrig</th>\n",
       "      <th>oldbalanceDest</th>\n",
       "      <th>newbalanceDest</th>\n",
       "      <th>isFraud</th>\n",
       "    </tr>\n",
       "  </thead>\n",
       "  <tbody>\n",
       "    <tr>\n",
       "      <th>step</th>\n",
       "      <td>1.000000</td>\n",
       "      <td>0.020598</td>\n",
       "      <td>0.012566</td>\n",
       "      <td>0.012849</td>\n",
       "      <td>0.026898</td>\n",
       "      <td>0.024205</td>\n",
       "      <td>0.034771</td>\n",
       "    </tr>\n",
       "    <tr>\n",
       "      <th>amount</th>\n",
       "      <td>0.020598</td>\n",
       "      <td>1.000000</td>\n",
       "      <td>0.001412</td>\n",
       "      <td>0.006926</td>\n",
       "      <td>0.321497</td>\n",
       "      <td>0.488105</td>\n",
       "      <td>0.080721</td>\n",
       "    </tr>\n",
       "    <tr>\n",
       "      <th>oldbalanceOrg</th>\n",
       "      <td>0.012566</td>\n",
       "      <td>0.001412</td>\n",
       "      <td>1.000000</td>\n",
       "      <td>0.998737</td>\n",
       "      <td>0.068276</td>\n",
       "      <td>0.042432</td>\n",
       "      <td>0.012824</td>\n",
       "    </tr>\n",
       "    <tr>\n",
       "      <th>newbalanceOrig</th>\n",
       "      <td>0.012849</td>\n",
       "      <td>0.006926</td>\n",
       "      <td>0.998737</td>\n",
       "      <td>1.000000</td>\n",
       "      <td>0.069920</td>\n",
       "      <td>0.042345</td>\n",
       "      <td>0.007229</td>\n",
       "    </tr>\n",
       "    <tr>\n",
       "      <th>oldbalanceDest</th>\n",
       "      <td>0.026898</td>\n",
       "      <td>0.321497</td>\n",
       "      <td>0.068276</td>\n",
       "      <td>0.069920</td>\n",
       "      <td>1.000000</td>\n",
       "      <td>0.974219</td>\n",
       "      <td>0.006936</td>\n",
       "    </tr>\n",
       "    <tr>\n",
       "      <th>newbalanceDest</th>\n",
       "      <td>0.024205</td>\n",
       "      <td>0.488105</td>\n",
       "      <td>0.042432</td>\n",
       "      <td>0.042345</td>\n",
       "      <td>0.974219</td>\n",
       "      <td>1.000000</td>\n",
       "      <td>0.000807</td>\n",
       "    </tr>\n",
       "    <tr>\n",
       "      <th>isFraud</th>\n",
       "      <td>0.034771</td>\n",
       "      <td>0.080721</td>\n",
       "      <td>0.012824</td>\n",
       "      <td>0.007229</td>\n",
       "      <td>0.006936</td>\n",
       "      <td>0.000807</td>\n",
       "      <td>1.000000</td>\n",
       "    </tr>\n",
       "  </tbody>\n",
       "</table>\n",
       "</div>"
      ],
      "text/plain": [
       "                    step    amount  oldbalanceOrg  newbalanceOrig  \\\n",
       "step            1.000000  0.020598       0.012566        0.012849   \n",
       "amount          0.020598  1.000000       0.001412        0.006926   \n",
       "oldbalanceOrg   0.012566  0.001412       1.000000        0.998737   \n",
       "newbalanceOrig  0.012849  0.006926       0.998737        1.000000   \n",
       "oldbalanceDest  0.026898  0.321497       0.068276        0.069920   \n",
       "newbalanceDest  0.024205  0.488105       0.042432        0.042345   \n",
       "isFraud         0.034771  0.080721       0.012824        0.007229   \n",
       "\n",
       "                oldbalanceDest  newbalanceDest   isFraud  \n",
       "step                  0.026898        0.024205  0.034771  \n",
       "amount                0.321497        0.488105  0.080721  \n",
       "oldbalanceOrg         0.068276        0.042432  0.012824  \n",
       "newbalanceOrig        0.069920        0.042345  0.007229  \n",
       "oldbalanceDest        1.000000        0.974219  0.006936  \n",
       "newbalanceDest        0.974219        1.000000  0.000807  \n",
       "isFraud               0.006936        0.000807  1.000000  "
      ]
     },
     "execution_count": 4,
     "metadata": {},
     "output_type": "execute_result"
    }
   ],
   "source": [
    "df_corr = df.corr().abs()\n",
    "df_corr"
   ]
  },
  {
   "cell_type": "code",
   "execution_count": 5,
   "id": "f332e3fa",
   "metadata": {},
   "outputs": [
    {
     "data": {
      "text/plain": [
       "newbalanceOrig  oldbalanceOrg     0.998737\n",
       "oldbalanceOrg   newbalanceOrig    0.998737\n",
       "oldbalanceDest  newbalanceDest    0.974219\n",
       "newbalanceDest  oldbalanceDest    0.974219\n",
       "                amount            0.488105\n",
       "amount          newbalanceDest    0.488105\n",
       "oldbalanceDest  amount            0.321497\n",
       "amount          oldbalanceDest    0.321497\n",
       "                isFraud           0.080721\n",
       "isFraud         amount            0.080721\n",
       "oldbalanceDest  newbalanceOrig    0.069920\n",
       "newbalanceOrig  oldbalanceDest    0.069920\n",
       "oldbalanceOrg   oldbalanceDest    0.068276\n",
       "oldbalanceDest  oldbalanceOrg     0.068276\n",
       "oldbalanceOrg   newbalanceDest    0.042432\n",
       "newbalanceDest  oldbalanceOrg     0.042432\n",
       "                newbalanceOrig    0.042345\n",
       "newbalanceOrig  newbalanceDest    0.042345\n",
       "isFraud         step              0.034771\n",
       "step            isFraud           0.034771\n",
       "dtype: float64"
      ]
     },
     "execution_count": 5,
     "metadata": {},
     "output_type": "execute_result"
    }
   ],
   "source": [
    "df_corr = df_corr[df_corr != 1.0]\n",
    "df_corr.unstack().sort_values(ascending=False)[:20]"
   ]
  },
  {
   "cell_type": "code",
   "execution_count": 6,
   "id": "6d9f5225",
   "metadata": {},
   "outputs": [
    {
     "data": {
      "text/plain": [
       "0    0\n",
       "1    0\n",
       "2    0\n",
       "3    0\n",
       "4    0\n",
       "Name: isPayment, dtype: int32"
      ]
     },
     "execution_count": 6,
     "metadata": {},
     "output_type": "execute_result"
    }
   ],
   "source": [
    "df['isPayment'] = 0\n",
    "df['isPayment'] = df['type'].isin(['PAYMENT', 'DEBIT']).astype(int) #assign 2 variables as \"true\" and change \"true\" to 1\n",
    "df['isPayment'].head()"
   ]
  },
  {
   "cell_type": "code",
   "execution_count": 7,
   "id": "93856381",
   "metadata": {},
   "outputs": [
    {
     "data": {
      "text/plain": [
       "0    1\n",
       "1    1\n",
       "2    0\n",
       "3    1\n",
       "4    1\n",
       "Name: isMovement, dtype: int32"
      ]
     },
     "execution_count": 7,
     "metadata": {},
     "output_type": "execute_result"
    }
   ],
   "source": [
    "df['isMovement'] = 0\n",
    "df['isMovement'] = df['type'].isin(['CASH_OUT','TRANFER']).astype(int)\n",
    "df['isMovement'].head()"
   ]
  },
  {
   "cell_type": "code",
   "execution_count": 8,
   "id": "bb06fe39",
   "metadata": {},
   "outputs": [],
   "source": [
    "df['accDiff'] = abs(df['oldbalanceOrg'] - df['oldbalanceDest'])"
   ]
  },
  {
   "cell_type": "code",
   "execution_count": 9,
   "id": "0c428af9",
   "metadata": {},
   "outputs": [],
   "source": [
    "df_corr = df.corr().abs()"
   ]
  },
  {
   "cell_type": "code",
   "execution_count": 10,
   "id": "c2f9b7d8",
   "metadata": {},
   "outputs": [
    {
     "data": {
      "text/plain": [
       "newbalanceOrig  oldbalanceOrg     0.998737\n",
       "oldbalanceOrg   newbalanceOrig    0.998737\n",
       "newbalanceDest  oldbalanceDest    0.974219\n",
       "oldbalanceDest  newbalanceDest    0.974219\n",
       "                accDiff           0.784128\n",
       "accDiff         oldbalanceDest    0.784128\n",
       "newbalanceDest  accDiff           0.759232\n",
       "accDiff         newbalanceDest    0.759232\n",
       "                oldbalanceOrg     0.590663\n",
       "oldbalanceOrg   accDiff           0.590663\n",
       "accDiff         newbalanceOrig    0.589085\n",
       "newbalanceOrig  accDiff           0.589085\n",
       "isMovement      isPayment         0.535190\n",
       "isPayment       isMovement        0.535190\n",
       "amount          newbalanceDest    0.488105\n",
       "newbalanceDest  amount            0.488105\n",
       "oldbalanceDest  amount            0.321497\n",
       "amount          oldbalanceDest    0.321497\n",
       "accDiff         isPayment         0.269001\n",
       "isPayment       accDiff           0.269001\n",
       "dtype: float64"
      ]
     },
     "execution_count": 10,
     "metadata": {},
     "output_type": "execute_result"
    }
   ],
   "source": [
    "df_corr = df_corr[df_corr != 1.0]\n",
    "df_corr.unstack().sort_values(ascending=False)[:20]"
   ]
  },
  {
   "cell_type": "code",
   "execution_count": 11,
   "id": "d55bbecc",
   "metadata": {},
   "outputs": [
    {
     "data": {
      "text/html": [
       "<div>\n",
       "<style scoped>\n",
       "    .dataframe tbody tr th:only-of-type {\n",
       "        vertical-align: middle;\n",
       "    }\n",
       "\n",
       "    .dataframe tbody tr th {\n",
       "        vertical-align: top;\n",
       "    }\n",
       "\n",
       "    .dataframe thead th {\n",
       "        text-align: right;\n",
       "    }\n",
       "</style>\n",
       "<table border=\"1\" class=\"dataframe\">\n",
       "  <thead>\n",
       "    <tr style=\"text-align: right;\">\n",
       "      <th></th>\n",
       "      <th>step</th>\n",
       "      <th>type</th>\n",
       "      <th>amount</th>\n",
       "      <th>nameOrig</th>\n",
       "      <th>oldbalanceOrg</th>\n",
       "      <th>newbalanceOrig</th>\n",
       "      <th>nameDest</th>\n",
       "      <th>oldbalanceDest</th>\n",
       "      <th>newbalanceDest</th>\n",
       "      <th>isFraud</th>\n",
       "      <th>isPayment</th>\n",
       "      <th>isMovement</th>\n",
       "      <th>accDiff</th>\n",
       "    </tr>\n",
       "  </thead>\n",
       "  <tbody>\n",
       "    <tr>\n",
       "      <th>0</th>\n",
       "      <td>8</td>\n",
       "      <td>CASH_OUT</td>\n",
       "      <td>158007.12</td>\n",
       "      <td>C424875646</td>\n",
       "      <td>0.00</td>\n",
       "      <td>0.00</td>\n",
       "      <td>C1298177219</td>\n",
       "      <td>474016.32</td>\n",
       "      <td>1618631.97</td>\n",
       "      <td>0</td>\n",
       "      <td>0</td>\n",
       "      <td>1</td>\n",
       "      <td>474016.32</td>\n",
       "    </tr>\n",
       "    <tr>\n",
       "      <th>1</th>\n",
       "      <td>236</td>\n",
       "      <td>CASH_OUT</td>\n",
       "      <td>457948.30</td>\n",
       "      <td>C1342616552</td>\n",
       "      <td>0.00</td>\n",
       "      <td>0.00</td>\n",
       "      <td>C1323169990</td>\n",
       "      <td>2720411.37</td>\n",
       "      <td>3178359.67</td>\n",
       "      <td>0</td>\n",
       "      <td>0</td>\n",
       "      <td>1</td>\n",
       "      <td>2720411.37</td>\n",
       "    </tr>\n",
       "    <tr>\n",
       "      <th>2</th>\n",
       "      <td>37</td>\n",
       "      <td>CASH_IN</td>\n",
       "      <td>153602.99</td>\n",
       "      <td>C900876541</td>\n",
       "      <td>11160428.67</td>\n",
       "      <td>11314031.67</td>\n",
       "      <td>C608741097</td>\n",
       "      <td>3274930.56</td>\n",
       "      <td>3121327.56</td>\n",
       "      <td>0</td>\n",
       "      <td>0</td>\n",
       "      <td>0</td>\n",
       "      <td>7885498.11</td>\n",
       "    </tr>\n",
       "    <tr>\n",
       "      <th>3</th>\n",
       "      <td>331</td>\n",
       "      <td>CASH_OUT</td>\n",
       "      <td>49555.14</td>\n",
       "      <td>C177696810</td>\n",
       "      <td>10865.00</td>\n",
       "      <td>0.00</td>\n",
       "      <td>C462716348</td>\n",
       "      <td>0.00</td>\n",
       "      <td>49555.14</td>\n",
       "      <td>0</td>\n",
       "      <td>0</td>\n",
       "      <td>1</td>\n",
       "      <td>10865.00</td>\n",
       "    </tr>\n",
       "    <tr>\n",
       "      <th>4</th>\n",
       "      <td>250</td>\n",
       "      <td>CASH_OUT</td>\n",
       "      <td>29648.02</td>\n",
       "      <td>C788941490</td>\n",
       "      <td>0.00</td>\n",
       "      <td>0.00</td>\n",
       "      <td>C1971700992</td>\n",
       "      <td>56933.09</td>\n",
       "      <td>86581.10</td>\n",
       "      <td>0</td>\n",
       "      <td>0</td>\n",
       "      <td>1</td>\n",
       "      <td>56933.09</td>\n",
       "    </tr>\n",
       "  </tbody>\n",
       "</table>\n",
       "</div>"
      ],
      "text/plain": [
       "   step      type     amount     nameOrig  oldbalanceOrg  newbalanceOrig  \\\n",
       "0     8  CASH_OUT  158007.12   C424875646           0.00            0.00   \n",
       "1   236  CASH_OUT  457948.30  C1342616552           0.00            0.00   \n",
       "2    37   CASH_IN  153602.99   C900876541    11160428.67     11314031.67   \n",
       "3   331  CASH_OUT   49555.14   C177696810       10865.00            0.00   \n",
       "4   250  CASH_OUT   29648.02   C788941490           0.00            0.00   \n",
       "\n",
       "      nameDest  oldbalanceDest  newbalanceDest  isFraud  isPayment  \\\n",
       "0  C1298177219       474016.32      1618631.97        0          0   \n",
       "1  C1323169990      2720411.37      3178359.67        0          0   \n",
       "2   C608741097      3274930.56      3121327.56        0          0   \n",
       "3   C462716348            0.00        49555.14        0          0   \n",
       "4  C1971700992        56933.09        86581.10        0          0   \n",
       "\n",
       "   isMovement     accDiff  \n",
       "0           1   474016.32  \n",
       "1           1  2720411.37  \n",
       "2           0  7885498.11  \n",
       "3           1    10865.00  \n",
       "4           1    56933.09  "
      ]
     },
     "execution_count": 11,
     "metadata": {},
     "output_type": "execute_result"
    }
   ],
   "source": [
    "df.head(5)"
   ]
  },
  {
   "cell_type": "code",
   "execution_count": 13,
   "id": "c1d9f391",
   "metadata": {},
   "outputs": [],
   "source": [
    "x = df[['amount', 'isPayment', 'isMovement', 'accDiff']]\n",
    "y = df['isFraud']"
   ]
  },
  {
   "cell_type": "code",
   "execution_count": 14,
   "id": "7da4abd7",
   "metadata": {},
   "outputs": [],
   "source": [
    "x_train, x_test, y_train, y_test=train_test_split(x,y)"
   ]
  },
  {
   "cell_type": "code",
   "execution_count": 15,
   "id": "d7513ffe",
   "metadata": {},
   "outputs": [],
   "source": [
    "scaler = StandardScaler()\n",
    "x_train = scaler.fit_transform(x_train)\n",
    "x_test = scaler.transform(x_test)"
   ]
  },
  {
   "cell_type": "code",
   "execution_count": 16,
   "id": "4cff8066",
   "metadata": {},
   "outputs": [
    {
     "data": {
      "text/plain": [
       "0.99846"
      ]
     },
     "execution_count": 16,
     "metadata": {},
     "output_type": "execute_result"
    }
   ],
   "source": [
    "model = LogisticRegression().fit(x_train, y_train)\n",
    "model.score(x_test,y_test) #testing scores"
   ]
  },
  {
   "cell_type": "code",
   "execution_count": 23,
   "id": "617fb144",
   "metadata": {},
   "outputs": [
    {
     "data": {
      "text/plain": [
       "0.9985866572443817"
      ]
     },
     "execution_count": 23,
     "metadata": {},
     "output_type": "execute_result"
    }
   ],
   "source": [
    "model.score(x_train,y_train) #training scores"
   ]
  },
  {
   "cell_type": "code",
   "execution_count": 18,
   "id": "fe02ce8a",
   "metadata": {},
   "outputs": [],
   "source": [
    "#new transactional data example\n",
    "transaction1 = np.array([123111.38, 0.0, 1.0, 13470.1])\n",
    "transaction2 = np.array([328700.17, 1.0, 0.0, 3124.75])\n",
    "transaction3 = np.array([62758.50, 1.0, 0.0, 93025.5])"
   ]
  },
  {
   "cell_type": "code",
   "execution_count": 19,
   "id": "fcd25d58",
   "metadata": {},
   "outputs": [],
   "source": [
    "#stacking the new transactions into one df\n",
    "all_transactions = np.stack((transaction1,transaction2,transaction3)) #add the extra parenthesis for this to work"
   ]
  },
  {
   "cell_type": "code",
   "execution_count": 25,
   "id": "be58438c",
   "metadata": {},
   "outputs": [],
   "source": [
    "trans_scale = scaler.transform(all_transactions)"
   ]
  },
  {
   "cell_type": "code",
   "execution_count": 26,
   "id": "4ac899a4",
   "metadata": {},
   "outputs": [
    {
     "data": {
      "text/plain": [
       "array([0, 0, 0], dtype=int64)"
      ]
     },
     "execution_count": 26,
     "metadata": {},
     "output_type": "execute_result"
    }
   ],
   "source": [
    "model.predict(trans_scale)"
   ]
  },
  {
   "cell_type": "code",
   "execution_count": 27,
   "id": "fd7f84d1",
   "metadata": {},
   "outputs": [
    {
     "data": {
      "text/plain": [
       "array([[9.97932573e-01, 2.06742669e-03],\n",
       "       [9.99975017e-01, 2.49828461e-05],\n",
       "       [9.99978181e-01, 2.18186788e-05]])"
      ]
     },
     "execution_count": 27,
     "metadata": {},
     "output_type": "execute_result"
    }
   ],
   "source": [
    "model.predict_proba(trans_scale)"
   ]
  }
 ],
 "metadata": {
  "kernelspec": {
   "display_name": "Python 3 (ipykernel)",
   "language": "python",
   "name": "python3"
  },
  "language_info": {
   "codemirror_mode": {
    "name": "ipython",
    "version": 3
   },
   "file_extension": ".py",
   "mimetype": "text/x-python",
   "name": "python",
   "nbconvert_exporter": "python",
   "pygments_lexer": "ipython3",
   "version": "3.7.7"
  }
 },
 "nbformat": 4,
 "nbformat_minor": 5
}
